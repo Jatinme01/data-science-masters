{
 "cells": [
  {
   "cell_type": "code",
   "execution_count": null,
   "id": "c3381de8-b9a2-438c-8bdf-c0dc8d204dda",
   "metadata": {},
   "outputs": [],
   "source": [
    "question 1"
   ]
  },
  {
   "cell_type": "code",
   "execution_count": 18,
   "id": "afa1ac35-2916-4184-a79a-fd363ff6e6b1",
   "metadata": {},
   "outputs": [
    {
     "data": {
      "text/plain": [
       "[('Virat Kohli', 24936),\n",
       " ('Jack Kallis', 25534),\n",
       " ('Ricky Ponting', 27483),\n",
       " ('Sachin Tendulkar', 34357)]"
      ]
     },
     "execution_count": 18,
     "metadata": {},
     "output_type": "execute_result"
    }
   ],
   "source": [
    "l1=[('Sachin Tendulkar', 34357), ('Ricky Ponting', 27483), ('Jack Kallis', 25534), ('Virat Kohli', 24936)]\n",
    "l1.sort(key=lambda x:x[1])\n",
    "l1"
   ]
  },
  {
   "cell_type": "code",
   "execution_count": null,
   "id": "6546a98d-0249-4df1-8d3e-9d39e9b4d6e8",
   "metadata": {},
   "outputs": [],
   "source": [
    "question 2"
   ]
  },
  {
   "cell_type": "code",
   "execution_count": 15,
   "id": "174b976c-cd77-4b42-9efb-9f452f52143e",
   "metadata": {},
   "outputs": [
    {
     "data": {
      "text/plain": [
       "[1, 4, 9, 16, 25, 36, 49, 64, 81, 100]"
      ]
     },
     "execution_count": 15,
     "metadata": {},
     "output_type": "execute_result"
    }
   ],
   "source": [
    "l = [1, 2, 3, 4, 5, 6, 7, 8, 9, 10]\n",
    "list(map(lambda x : x**2, l))"
   ]
  },
  {
   "cell_type": "code",
   "execution_count": null,
   "id": "fb97530c-9c36-42f1-8d9f-cb7ee4b45272",
   "metadata": {},
   "outputs": [],
   "source": [
    "question 3"
   ]
  },
  {
   "cell_type": "code",
   "execution_count": 16,
   "id": "cd65cf4d-e672-4fd8-bf35-133c4af92ce2",
   "metadata": {},
   "outputs": [
    {
     "data": {
      "text/plain": [
       "('1', '2', '3', '4', '5', '6', '7', '8', '9', '10')"
      ]
     },
     "execution_count": 16,
     "metadata": {},
     "output_type": "execute_result"
    }
   ],
   "source": [
    "l5=[1, 2, 3, 4, 5, 6, 7, 8, 9, 10]\n",
    "tuple(map(lambda x:str(x) , l5))"
   ]
  },
  {
   "cell_type": "code",
   "execution_count": null,
   "id": "9fdaac0d-9867-48d8-a99a-20eddf253dd9",
   "metadata": {},
   "outputs": [],
   "source": [
    "question 4"
   ]
  },
  {
   "cell_type": "code",
   "execution_count": 10,
   "id": "ec77aa60-7f13-4d8b-b949-920370721403",
   "metadata": {},
   "outputs": [
    {
     "data": {
      "text/plain": [
       "15511210043330985984000000"
      ]
     },
     "execution_count": 10,
     "metadata": {},
     "output_type": "execute_result"
    }
   ],
   "source": [
    "from functools import reduce\n",
    "l6=list(range(1,26))\n",
    "reduce(lambda x,y:x*y , l6)"
   ]
  },
  {
   "cell_type": "code",
   "execution_count": null,
   "id": "00805697-5c97-47b8-87cc-636c3243866e",
   "metadata": {},
   "outputs": [],
   "source": [
    "question 5"
   ]
  },
  {
   "cell_type": "code",
   "execution_count": 8,
   "id": "83892591-1928-438f-8316-5afa2f16c3aa",
   "metadata": {},
   "outputs": [
    {
     "data": {
      "text/plain": [
       "[6, 60, 90, 120]"
      ]
     },
     "execution_count": 8,
     "metadata": {},
     "output_type": "execute_result"
    }
   ],
   "source": [
    "l7=[2, 3, 6, 9, 27, 60, 90, 120, 55, 46]\n",
    "list(filter(lambda x:x % 6==0, l7))"
   ]
  },
  {
   "cell_type": "code",
   "execution_count": null,
   "id": "9c1522c2-caa6-4fc6-ad7a-bfe17bb99168",
   "metadata": {},
   "outputs": [],
   "source": [
    "question 6"
   ]
  },
  {
   "cell_type": "code",
   "execution_count": 14,
   "id": "025aed21-2914-4e4f-8fd4-630b8f105a78",
   "metadata": {},
   "outputs": [
    {
     "data": {
      "text/plain": [
       "['php', 'aba', 'radar', 'level']"
      ]
     },
     "execution_count": 14,
     "metadata": {},
     "output_type": "execute_result"
    }
   ],
   "source": [
    "l8=['python', 'php', 'aba', 'radar', 'level']\n",
    "list(filter(lambda l8:l8==l8[::-1] , l8))\n"
   ]
  },
  {
   "cell_type": "code",
   "execution_count": null,
   "id": "104bfe8f-8817-4438-8842-8bd46a65f17a",
   "metadata": {},
   "outputs": [],
   "source": []
  },
  {
   "cell_type": "code",
   "execution_count": null,
   "id": "b7ec2e0d-17f8-4475-b026-20b3eb981231",
   "metadata": {},
   "outputs": [],
   "source": []
  }
 ],
 "metadata": {
  "kernelspec": {
   "display_name": "Python 3 (ipykernel)",
   "language": "python",
   "name": "python3"
  },
  "language_info": {
   "codemirror_mode": {
    "name": "ipython",
    "version": 3
   },
   "file_extension": ".py",
   "mimetype": "text/x-python",
   "name": "python",
   "nbconvert_exporter": "python",
   "pygments_lexer": "ipython3",
   "version": "3.10.8"
  }
 },
 "nbformat": 4,
 "nbformat_minor": 5
}
