{
 "cells": [
  {
   "cell_type": "code",
   "execution_count": 1,
   "id": "dc822dd3-33ac-4f58-bba8-270b80bcd0e4",
   "metadata": {},
   "outputs": [],
   "source": [
    "import pandas as pd\n"
   ]
  },
  {
   "cell_type": "code",
   "execution_count": 2,
   "id": "e8cbb9e5-a897-4135-a40e-6390a450fcf6",
   "metadata": {},
   "outputs": [
    {
     "name": "stdout",
     "output_type": "stream",
     "text": [
      "Requirement already satisfied: pandas in /opt/conda/lib/python3.10/site-packages (1.5.2)\n",
      "Requirement already satisfied: python-dateutil>=2.8.1 in /opt/conda/lib/python3.10/site-packages (from pandas) (2.8.2)\n",
      "Requirement already satisfied: pytz>=2020.1 in /opt/conda/lib/python3.10/site-packages (from pandas) (2022.6)\n",
      "Requirement already satisfied: numpy>=1.21.0 in /opt/conda/lib/python3.10/site-packages (from pandas) (1.23.5)\n",
      "Requirement already satisfied: six>=1.5 in /opt/conda/lib/python3.10/site-packages (from python-dateutil>=2.8.1->pandas) (1.16.0)\n",
      "Note: you may need to restart the kernel to use updated packages.\n"
     ]
    }
   ],
   "source": [
    "pip install pandas"
   ]
  },
  {
   "cell_type": "code",
   "execution_count": 6,
   "id": "77fd8e3d-c00c-4411-84ef-84eafd34091c",
   "metadata": {},
   "outputs": [],
   "source": [
    "sr=pd.Series([4,8,15,16,23,42])\n"
   ]
  },
  {
   "cell_type": "code",
   "execution_count": 7,
   "id": "791966b0-570d-4db2-880b-ca3a12f8bba8",
   "metadata": {},
   "outputs": [
    {
     "name": "stdout",
     "output_type": "stream",
     "text": [
      "0     4\n",
      "1     8\n",
      "2    15\n",
      "3    16\n",
      "4    23\n",
      "5    42\n",
      "dtype: int64\n"
     ]
    }
   ],
   "source": [
    "print(sr)"
   ]
  },
  {
   "cell_type": "code",
   "execution_count": 8,
   "id": "ab6133d6-e42b-464d-9806-17199dc20d56",
   "metadata": {},
   "outputs": [],
   "source": [
    "l1=['Jatin',21, 1,2003, 'chandigarh', 'acer', '63', 72, 80 , 90] "
   ]
  },
  {
   "cell_type": "code",
   "execution_count": 9,
   "id": "4a5f35ae-2aab-4be2-baee-3d95d7c74887",
   "metadata": {},
   "outputs": [
    {
     "data": {
      "text/plain": [
       "0         Jatin\n",
       "1            21\n",
       "2             1\n",
       "3          2003\n",
       "4    chandigarh\n",
       "5          acer\n",
       "6            63\n",
       "7            72\n",
       "8            80\n",
       "9            90\n",
       "dtype: object"
      ]
     },
     "execution_count": 9,
     "metadata": {},
     "output_type": "execute_result"
    }
   ],
   "source": [
    "pd.Series(l1)"
   ]
  },
  {
   "cell_type": "code",
   "execution_count": 15,
   "id": "9d6b662a-1e05-40f7-83c6-f24fe7d71d91",
   "metadata": {},
   "outputs": [],
   "source": [
    "data={\n",
    "\"Name\":['Alice','Bob','Claire'],\n",
    "\n",
    "\"Age\":[25,30,27],\n",
    "      \n",
    "\"Gender\":['Female','Male','Female']}"
   ]
  },
  {
   "cell_type": "code",
   "execution_count": 19,
   "id": "f330e344-cc95-4829-b5a3-ca5ceada8c16",
   "metadata": {},
   "outputs": [],
   "source": [
    "df=pd.DataFrame(data)"
   ]
  },
  {
   "cell_type": "code",
   "execution_count": 20,
   "id": "017a2bb9-ca34-4da1-bc4e-9e0f7f4bed01",
   "metadata": {},
   "outputs": [
    {
     "name": "stdout",
     "output_type": "stream",
     "text": [
      "     Name  Age  Gender\n",
      "0   Alice   25  Female\n",
      "1     Bob   30    Male\n",
      "2  Claire   27  Female\n"
     ]
    }
   ],
   "source": [
    "print(df)\n"
   ]
  },
  {
   "cell_type": "code",
   "execution_count": null,
   "id": "830e1fad-c9a0-4e74-b229-2f48c34a7bbe",
   "metadata": {},
   "outputs": [],
   "source": [
    "\n",
    "In pandas, a DataFrame is a two-dimensional, tabular data structure that is similar to a spreadsheet or SQL table. It consists of rows and columns, \n",
    "where each column can have a different data type. The DataFrame is a fundamental data structure for data analysis in pandas,\n",
    "and it provides a convenient way to manipulate and analyze structured data.On the other hand, a Series is a one-dimensional labeled array,\n",
    "which can be seen as a single column of a DataFrame. It is essentially a single column of data with an associated label or index for each element. \n",
    "A DataFrame, in contrast, is a collection of Series where each Series represents a column.\n",
    "\n",
    "example:\n",
    "\n",
    "import pandas as pd\n",
    "\n",
    "# Creating a DataFrame\n",
    "data = {'Name': ['Alice', 'Bob', 'Charlie'],\n",
    "        'Age': [25, 30, 22],\n",
    "        'City': ['New York', 'San Francisco', 'Los Angeles']}\n",
    "\n",
    "df = pd.DataFrame(data)\n",
    "print(\"DataFrame:\")\n",
    "print(df)\n",
    "print(\"\\nType of DataFrame:\", type(df))\n",
    "\n",
    "# Creating a Series\n",
    "ages = pd.Series([25, 30, 22], name='Age')\n",
    "print(\"\\nSeries:\")\n",
    "print(ages)\n",
    "print(\"\\nType of Series:\", type(ages))\n",
    "\n",
    "In this example, df is a DataFrame containing three columns, each represented as a Series. The ages variable is a standalone Series representing \n",
    "the 'Age' column of the DataFrame. \n"
   ]
  },
  {
   "cell_type": "code",
   "execution_count": 1,
   "id": "0cf3dbe2-756b-4a4d-a932-3623638c284c",
   "metadata": {},
   "outputs": [
    {
     "ename": "SyntaxError",
     "evalue": "invalid syntax (866980474.py, line 1)",
     "output_type": "error",
     "traceback": [
      "\u001b[0;36m  Cell \u001b[0;32mIn[1], line 1\u001b[0;36m\u001b[0m\n\u001b[0;31m    Read Data:\u001b[0m\n\u001b[0m         ^\u001b[0m\n\u001b[0;31mSyntaxError\u001b[0m\u001b[0;31m:\u001b[0m invalid syntax\n"
     ]
    }
   ],
   "source": [
    "Read Data:\n",
    "\n",
    "pd.read_csv(): Read data from a CSV file into a DataFrame.\n",
    "pd.read_excel(): Read data from an Excel file into a DataFrame.\n",
    "pd.DataFrame(): Create a DataFrame from data in memory.\n",
    "Viewing Data:\n",
    "\n",
    "df.head(n): Display the first n rows of the DataFrame.\n",
    "df.tail(n): Display the last n rows of the DataFrame.\n",
    "df.info(): Display a concise summary of the DataFrame, including data types and missing values.\n",
    "df[df['column'] > value]: Filter rows based on a condition.\n",
    "df.query('condition'): Filter rows using a query expression.\n",
    "\n",
    "code demonstrating the usage of one of these functions:\n",
    "    \n",
    " "
   ]
  },
  {
   "cell_type": "code",
   "execution_count": 3,
   "id": "9cd22ec4-47c6-40d5-8388-2543b858ed27",
   "metadata": {},
   "outputs": [
    {
     "name": "stdout",
     "output_type": "stream",
     "text": [
      "Original DataFrame:\n",
      "      Name  Age  Math_Score  English_Score\n",
      "0    Alice   22          85             75\n",
      "1      Bob   21          90             82\n",
      "2  Charlie   23          78             80\n",
      "3    David   22          92             88\n",
      "4     Emma   24          88             90\n",
      "\n",
      "Students with Math score > 85:\n",
      "    Name  Age  Math_Score  English_Score\n",
      "1    Bob   21          90             82\n",
      "3  David   22          92             88\n",
      "4   Emma   24          88             90\n"
     ]
    }
   ],
   "source": [
    "import pandas as pd\n",
    "\n",
    "# Sample DataFrame\n",
    "data = {'Name': ['Alice', 'Bob', 'Charlie', 'David', 'Emma'],\n",
    "        'Age': [22, 21, 23, 22, 24],\n",
    "        'Math_Score': [85, 90, 78, 92, 88],\n",
    "        'English_Score': [75, 82, 80, 88, 90]}\n",
    "\n",
    "df = pd.DataFrame(data)\n",
    "print(\"Original DataFrame:\")\n",
    "print(df)\n",
    "high_math_score = df[df['Math_Score'] > 85]\n",
    "print(\"\\nStudents with Math score > 85:\")\n",
    "print(high_math_score)\n"
   ]
  },
  {
   "cell_type": "code",
   "execution_count": null,
   "id": "af706d62-b244-4201-ae72-4333d7263dfe",
   "metadata": {},
   "outputs": [],
   "source": [
    "In Pandas, the Series and DataFrame are mutable, whereas the Panel is considered deprecated and not recommended for use. The recommended way to \n",
    "handle three-dimensional data is by using multi-index DataFrames."
   ]
  },
  {
   "cell_type": "code",
   "execution_count": null,
   "id": "51ff4f6b-04af-4b77-b4cd-dcbfd27de430",
   "metadata": {},
   "outputs": [],
   "source": [
    "import pandas as pd\n",
    "\n",
    "\n",
    "names = pd.Series(['Alice', 'Bob', 'Charlie'])\n",
    "ages = pd.Series([25, 30, 22])\n",
    "scores = pd.Series([85, 90, 78])\n",
    "\n",
    "# Combining Series into a DataFrame\n",
    "data = {'Name': names, 'Age': ages, 'Scores': scores}\n",
    "df = pd.DataFrame(data)\n",
    "\n",
    "# Displaying the DataFrame\n",
    "print(df)\n"
   ]
  }
 ],
 "metadata": {
  "kernelspec": {
   "display_name": "Python 3 (ipykernel)",
   "language": "python",
   "name": "python3"
  },
  "language_info": {
   "codemirror_mode": {
    "name": "ipython",
    "version": 3
   },
   "file_extension": ".py",
   "mimetype": "text/x-python",
   "name": "python",
   "nbconvert_exporter": "python",
   "pygments_lexer": "ipython3",
   "version": "3.10.8"
  }
 },
 "nbformat": 4,
 "nbformat_minor": 5
}
